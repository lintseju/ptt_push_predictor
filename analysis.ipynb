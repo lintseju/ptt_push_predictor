{
 "cells": [
  {
   "cell_type": "code",
   "execution_count": 1,
   "metadata": {},
   "outputs": [],
   "source": [
    "import arrow\n",
    "import glob\n",
    "import matplotlib.pyplot as plt\n",
    "import numpy as np\n",
    "import os\n",
    "import pandas as pd\n",
    "import re\n",
    "import requests\n",
    "import seaborn as sns\n",
    "import traceback\n",
    "import ujson as json\n",
    "\n",
    "from bs4 import BeautifulSoup\n",
    "from bs4.element import NavigableString\n",
    "from collections import defaultdict"
   ]
  },
  {
   "cell_type": "code",
   "execution_count": 2,
   "metadata": {},
   "outputs": [
    {
     "name": "stdout",
     "output_type": "stream",
     "text": [
      "19644\n"
     ]
    }
   ],
   "source": [
    "data = []\n",
    "path = 'data/joke/line.json'\n",
    "for line in open(path):\n",
    "    d = json.loads(line)\n",
    "    # convert to TW time\n",
    "    atime = arrow.get(d['time']).shift(hours=8)\n",
    "    if arrow.get('20190101', 'YYYYMMDD') <= atime < arrow.get('20200701', 'YYYYMMDD'):\n",
    "        push = 0\n",
    "        for r in d['Responses']:\n",
    "            if r['ResponseTime'] - d['time'] > 86400 * 7:\n",
    "                continue\n",
    "            if r['Vote'] == '推':\n",
    "                push += 1\n",
    "            elif r['Vote'] == '噓':\n",
    "                push -= 1\n",
    "        data.append((d, push))\n",
    "print(len(data))"
   ]
  },
  {
   "cell_type": "code",
   "execution_count": 3,
   "metadata": {},
   "outputs": [
    {
     "name": "stdout",
     "output_type": "stream",
     "text": [
      "19644 2433 0.12431276725717777\n",
      "count    19644.000000\n",
      "mean        13.879454\n",
      "std         53.531679\n",
      "min       -500.000000\n",
      "25%         -2.000000\n",
      "50%          0.000000\n",
      "75%          5.000000\n",
      "max       1370.000000\n",
      "dtype: float64\n",
      "100%: 1370\n",
      "90%: 44\n",
      "80%: 8\n",
      "70%: 3\n",
      "60%: 1\n",
      "50%: 0\n",
      "40%: -1\n",
      "30%: -1\n",
      "20%: -2\n",
      "10%: -4\n",
      "0%: -500\n",
      "total 19644 average 13.879454 std 53.530316\n"
     ]
    },
    {
     "data": {
      "text/plain": [
       "(array([ 745., 1284., 1830., 2613., 2837., 1639.,  979.,  670.,  493.,\n",
       "         383.,  358.,  321.,  263.,  196.,   90.,   59.,   68.,   46.,\n",
       "          68.,   61.,   49.,   63.,   54.,   41.,   49.]),\n",
       " array([-4.  , -3.04, -2.08, -1.12, -0.16,  0.8 ,  1.76,  2.72,  3.68,\n",
       "         4.64,  5.6 ,  6.56,  7.52,  8.48,  9.44, 10.4 , 11.36, 12.32,\n",
       "        13.28, 14.24, 15.2 , 16.16, 17.12, 18.08, 19.04, 20.  ]),\n",
       " <a list of 25 Patch objects>)"
      ]
     },
     "execution_count": 3,
     "metadata": {},
     "output_type": "execute_result"
    },
    {
     "data": {
      "image/png": "[encoded data removed]",
      "text/plain": [
       "<Figure size 432x288 with 1 Axes>"
      ]
     },
     "metadata": {
      "needs_background": "light"
     },
     "output_type": "display_data"
    },
    {
     "data": {
      "image/png": "[encoded data removed]",
      "text/plain": [
       "<Figure size 432x288 with 1 Axes>"
      ]
     },
     "metadata": {
      "needs_background": "light"
     },
     "output_type": "display_data"
    },
    {
     "data": {
      "image/png": "[encoded data removed]",
      "text/plain": [
       "<Figure size 432x288 with 1 Axes>"
      ]
     },
     "metadata": {
      "needs_background": "light"
     },
     "output_type": "display_data"
    }
   ],
   "source": [
    "# draw distribution\n",
    "x = [p for _, p in data]\n",
    "print(len(x), len(list(filter(lambda v: v >= 30, x))), 2442/19644)\n",
    "print(pd.Series(x).describe())\n",
    "for i in np.arange(100, -1, -10):\n",
    "    print('%d%%: %d' % (i, np.percentile(x, i)))\n",
    "print('total %d average %f std %f' % (len(x), np.mean(x), np.std(x)))\n",
    "plt.hist(x, bins=max(x) - min(x) + 1)\n",
    "plt.figure()\n",
    "plt.hist([xx for xx in x if -4 <= xx <= 97], bins=102)\n",
    "plt.figure()\n",
    "plt.hist([xx for xx in x if -4 <= xx <= 20], bins=25)"
   ]
  },
  {
   "cell_type": "code",
   "execution_count": 4,
   "metadata": {},
   "outputs": [
    {
     "name": "stdout",
     "output_type": "stream",
     "text": [
      "19644\n",
      "category, number of posts, ratio, average push\n",
      "猜謎 6055 0.3082366116880472 2.6761354252683733\n",
      "ＸＤ 3884 0.19771940541641214 24.376673532440783\n",
      "耍冷 3418 0.1739971492567705 9.684025746050322\n",
      "笑話 1873 0.09534717980044798 8.624132407901762\n",
      "趣事 1105 0.05625127265322745 12.212669683257918\n",
      "趣圖 952 0.048462634901242106 25.519957983193276\n",
      "影音 591 0.030085522296884545 13.774957698815566\n",
      "地獄 451 0.02295866422317247 6.07760532150776\n",
      "豪洨 99 0.005039706780696396 19.404040404040405\n",
      "公告 72 0.0036652412950519244 5.888888888888889\n",
      "XD 17 0.0008654041946650376 4.823529411764706\n",
      "新聞 15 0.0007635919364691509 49.46666666666667\n",
      "雲蟲 12 0.0006108735491753207 -2.4166666666666665\n",
      "問卦 10 0.0005090612909794339 78.0\n",
      "發誓 8 0.00040724903278354713 27.25\n",
      "參選 7 0.0003563429036856037 23.142857142857142\n",
      "上奏 4 0.00020362451639177357 31.25\n",
      "自創 3 0.00015271838729383018 282.6666666666667\n",
      "問題 3 0.00015271838729383018 -1.6666666666666667\n",
      "漫畫 3 0.00015271838729383018 79.33333333333333\n",
      "轉錄 3 0.00015271838729383018 15.666666666666666\n",
      "翻譯 3 0.00015271838729383018 16.333333333333332\n",
      "救可 2 0.00010181225819588678 -2.0\n",
      "爆笑 2 0.00010181225819588678 -3.5\n",
      "么吉 2 0.00010181225819588678 48.0\n",
      "分享 2 0.00010181225819588678 98.0\n",
      "尋片 1 5.090612909794339e-05 3.0\n",
      "討論 1 5.090612909794339e-05 16.0\n",
      "牛牛 1 5.090612909794339e-05 0.0\n",
      "科學 1 5.090612909794339e-05 -1.0\n",
      "求助 1 5.090612909794339e-05 -2.0\n",
      "被撩 1 5.090612909794339e-05 -4.0\n",
      "ＸD 1 5.090612909794339e-05 -2.0\n",
      "震驚 1 5.090612909794339e-05 -14.0\n",
      "懷舊 1 5.090612909794339e-05 -5.0\n",
      "抽獎 1 5.090612909794339e-05 3.0\n",
      "對聯 1 5.090612909794339e-05 -5.0\n",
      "消費 1 5.090612909794339e-05 -3.0\n",
      "臉書 1 5.090612909794339e-05 -3.0\n",
      "重要 1 5.090612909794339e-05 -5.0\n",
      "選舉 1 5.090612909794339e-05 -2.0\n",
      "唬爛 1 5.090612909794339e-05 2.0\n",
      "廢片 1 5.090612909794339e-05 -2.0\n",
      "自訂 1 5.090612909794339e-05 5.0\n",
      "廢文 1 5.090612909794339e-05 0.0\n",
      "認真 1 5.090612909794339e-05 6.0\n",
      "震怒 1 5.090612909794339e-05 129.0\n",
      "板皇 1 5.090612909794339e-05 -6.0\n",
      "爆卦 1 5.090612909794339e-05 6.0\n",
      "黃色 1 5.090612909794339e-05 -8.0\n",
      "眼殘 1 5.090612909794339e-05 16.0\n",
      "板務 1 5.090612909794339e-05 -2.0\n",
      "有雷 1 5.090612909794339e-05 0.0\n",
      "疑問 1 5.090612909794339e-05 3.0\n",
      "師兄 1 5.090612909794339e-05 416.0\n",
      "轉載 1 5.090612909794339e-05 -8.0\n",
      "閒聊 1 5.090612909794339e-05 -1.0\n",
      "心情 1 5.090612909794339e-05 1.0\n",
      "紅包 1 5.090612909794339e-05 0.0\n",
      "決定 1 5.090612909794339e-05 -1.0\n",
      "時事 1 5.090612909794339e-05 7.0\n",
      "影片 1 5.090612909794339e-05 0.0\n",
      "芙託 1 5.090612909794339e-05 3.0\n"
     ]
    }
   ],
   "source": [
    "cnt = defaultdict(lambda: [0, 0])\n",
    "for d, p in data:\n",
    "    title = d['Title'].replace('Re: ', '')\n",
    "    if title[0] == '[' and title[3] == ']':\n",
    "        category = title[1:3]\n",
    "        cnt[category][0] += 1\n",
    "        cnt[category][1] += p\n",
    "total = len(data) # sum(cnt.values())\n",
    "print(total)\n",
    "print('category, number of posts, ratio, average push')\n",
    "for k, (c, p) in sorted(cnt.items(), key=lambda x: -x[1][0]):\n",
    "    print(k, c, c / total, p / c)"
   ]
  }
 ],
 "metadata": {
  "kernelspec": {
   "display_name": "Python 3",
   "language": "python",
   "name": "python3"
  },
  "language_info": {
   "codemirror_mode": {
    "name": "ipython",
    "version": 3
   },
   "file_extension": ".py",
   "mimetype": "text/x-python",
   "name": "python",
   "nbconvert_exporter": "python",
   "pygments_lexer": "ipython3",
   "version": "3.7.3"
  }
 },
 "nbformat": 4,
 "nbformat_minor": 2
}
